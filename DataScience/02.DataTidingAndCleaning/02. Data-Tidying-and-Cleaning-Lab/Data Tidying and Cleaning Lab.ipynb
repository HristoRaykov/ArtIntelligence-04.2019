{
 "cells": [
  {
   "cell_type": "code",
   "execution_count": 3,
   "metadata": {
    "pycharm": {
     "is_executing": false
    }
   },
   "outputs": [],
   "source": [
    "import pandas as pd\n",
    "import nose.tools\n",
    "# Write your imports here"
   ]
  },
  {
   "cell_type": "markdown",
   "metadata": {},
   "source": [
    "# Data Tidying and Cleaning Lab\n",
    "## Reading, tidying and cleaning data. Preparing data for exploration, mining, analysis and learning"
   ]
  },
  {
   "cell_type": "markdown",
   "metadata": {
    "collapsed": true
   },
   "source": [
    "### Problem 1. Read the dataset (2 points)\n",
    "The dataset [here](http://archive.ics.uci.edu/ml/datasets/Auto+MPG) contains information about fuel consumption in different cars.\n",
    "\n",
    "Click the \"Data Folder\" link and read `auto_mpg.data` into Python. You can download it, if you wish, or you can read it directly from the link.\n",
    "\n",
    "Give meaningful (and \"Pythonic\") column names, as per the `auto_mpg.names` file:\n",
    "1. mpg\n",
    "2. cylinders\n",
    "3. displacement\n",
    "4. horsepower\n",
    "5. weight\n",
    "6. acceleration\n",
    "7. model_year\n",
    "8. origin\n",
    "9. car_name"
   ]
  },
  {
   "cell_type": "code",
   "execution_count": 4,
   "metadata": {
    "deletable": false,
    "nbgrader": {
     "checksum": "01dd7404c375d7c55e078528f4f2e82a",
     "grade": false,
     "grade_id": "read_data",
     "locked": false,
     "schema_version": 1,
     "solution": true
    },
    "pycharm": {
     "is_executing": false
    }
   },
   "outputs": [],
   "source": [
    "mpg_data = pd.read_fwf(\"http://archive.ics.uci.edu/ml/machine-learning-databases/auto-mpg/auto-mpg.data\", header=None)\n",
    "mpg_data.columns = [\"mpg\", \"cylinders\", \"displacement\", \"horsepower\", \"weight\", \"acceleration\", \"model_year\", \"origin\", \"car_name\"]\n"
   ]
  },
  {
   "cell_type": "code",
   "execution_count": 87,
   "metadata": {
    "deletable": false,
    "editable": false,
    "nbgrader": {
     "checksum": "2ce6158989415e079a009ae021e4fa62",
     "grade": true,
     "grade_id": "read_data_tests",
     "locked": true,
     "points": 2,
     "schema_version": 1,
     "solution": false
    },
    "pycharm": {
     "is_executing": false
    }
   },
   "outputs": [],
   "source": [
    "nose.tools.assert_is_not_none(mpg_data)"
   ]
  },
  {
   "cell_type": "markdown",
   "metadata": {},
   "source": [
    "Print the first 4 rows in the dataset to get a feel of what it looks like:"
   ]
  },
  {
   "cell_type": "code",
   "execution_count": 88,
   "metadata": {
    "deletable": false,
    "nbgrader": {
     "checksum": "95870dca1942307927d17b24f8058909",
     "grade": false,
     "grade_id": "cell-80f1e6004aaafef8",
     "locked": false,
     "schema_version": 1,
     "solution": true
    },
    "pycharm": {
     "is_executing": false
    }
   },
   "outputs": [
    {
     "name": "stdout",
     "text": [
      "    mpg  cylinders  displacement horsepower  weight  acceleration  model_year  \\\n0  18.0          8         307.0      130.0  3504.0          12.0          70   \n1  15.0          8         350.0      165.0  3693.0          11.5          70   \n2  18.0          8         318.0      150.0  3436.0          11.0          70   \n3  16.0          8         304.0      150.0  3433.0          12.0          70   \n\n   origin                     car_name  \n0       1  \"chevrolet chevelle malibu\"  \n1       1          \"buick skylark 320\"  \n2       1         \"plymouth satellite\"  \n3       1              \"amc rebel sst\"  \n"
     ],
     "output_type": "stream"
    }
   ],
   "source": [
    "print(mpg_data.head(4))"
   ]
  },
  {
   "cell_type": "markdown",
   "metadata": {},
   "source": [
    "### Problem 2. Inspect the dataset (1 point)\n",
    "Write a function which accepts a dataset and returns the number of observations and features in it, like so: \n",
    "\n",
    "``` 10 observations on 15 features```\n",
    "\n",
    "Where 10 and 15 should be replaced with the real numbers. Test your function with the `auto_mpg` dataset.\n",
    "\n",
    "Make sure the function works with other datasets (don't worry about \"1 features\" or \"1 observations\", just leave it as it is)."
   ]
  },
  {
   "cell_type": "code",
   "execution_count": 5,
   "metadata": {
    "deletable": false,
    "nbgrader": {
     "checksum": "b1d7dcc8748a015d88620eaaa5c9f954",
     "grade": false,
     "grade_id": "get_shape_function",
     "locked": false,
     "schema_version": 1,
     "solution": true
    },
    "pycharm": {
     "is_executing": false
    }
   },
   "outputs": [],
   "source": [
    "def observations_and_features(dataset):\n",
    "    \"\"\"\n",
    "    Returns the number of observations and features in the provided dataset\n",
    "    \"\"\"\n",
    "    observations = len(dataset.index)\n",
    "    features = len(dataset.columns)\n",
    "    return \"{} observations on {} features\".format(observations, features)"
   ]
  },
  {
   "cell_type": "code",
   "execution_count": 90,
   "metadata": {
    "deletable": false,
    "editable": false,
    "nbgrader": {
     "checksum": "f7dbfd9dc8c499bfd5a29ea97c4ff14f",
     "grade": true,
     "grade_id": "get_shape_function_tests",
     "locked": true,
     "points": 1,
     "schema_version": 1,
     "solution": false
    },
    "pycharm": {
     "is_executing": false
    }
   },
   "outputs": [
    {
     "name": "stdout",
     "text": [
      "398 observations on 9 features\n"
     ],
     "output_type": "stream"
    }
   ],
   "source": [
    "print(observations_and_features(mpg_data))"
   ]
  },
  {
   "cell_type": "markdown",
   "metadata": {},
   "source": [
    "Inspect the data types for each column."
   ]
  },
  {
   "cell_type": "code",
   "execution_count": 91,
   "metadata": {
    "deletable": false,
    "nbgrader": {
     "checksum": "2104930892a2916289f265b192e17f8f",
     "grade": false,
     "grade_id": "cell-152f652655c53f2a",
     "locked": false,
     "schema_version": 1,
     "solution": true
    },
    "pycharm": {
     "is_executing": false
    }
   },
   "outputs": [
    {
     "name": "stdout",
     "text": [
      "mpg             float64\ncylinders         int64\ndisplacement    float64\nhorsepower       object\nweight          float64\nacceleration    float64\nmodel_year        int64\norigin            int64\ncar_name         object\ndtype: object\n"
     ],
     "output_type": "stream"
    }
   ],
   "source": [
    "print(mpg_data.dtypes)"
   ]
  },
  {
   "cell_type": "markdown",
   "metadata": {},
   "source": [
    "### Problem 3. Correct errors (1 point)\n",
    "The `horsepower` column looks strange. It's a string but it must be a floating-point number. Find out why this is so and convert it to floating-point number."
   ]
  },
  {
   "cell_type": "code",
   "execution_count": 6,
   "metadata": {
    "deletable": false,
    "nbgrader": {
     "checksum": "752895e02c8832dd852dde6ec3f15782",
     "grade": false,
     "grade_id": "convert_to_numeric",
     "locked": false,
     "schema_version": 1,
     "solution": true
    },
    "pycharm": {
     "is_executing": false
    }
   },
   "outputs": [
    {
     "name": "stdout",
     "text": [
      "      mpg  cylinders  displacement  horsepower  weight  acceleration  \\\n0    18.0          8         307.0       130.0  3504.0          12.0   \n1    15.0          8         350.0       165.0  3693.0          11.5   \n2    18.0          8         318.0       150.0  3436.0          11.0   \n3    16.0          8         304.0       150.0  3433.0          12.0   \n4    17.0          8         302.0       140.0  3449.0          10.5   \n5    15.0          8         429.0       198.0  4341.0          10.0   \n6    14.0          8         454.0       220.0  4354.0           9.0   \n7    14.0          8         440.0       215.0  4312.0           8.5   \n8    14.0          8         455.0       225.0  4425.0          10.0   \n9    15.0          8         390.0       190.0  3850.0           8.5   \n10   15.0          8         383.0       170.0  3563.0          10.0   \n11   14.0          8         340.0       160.0  3609.0           8.0   \n12   15.0          8         400.0       150.0  3761.0           9.5   \n13   14.0          8         455.0       225.0  3086.0          10.0   \n14   24.0          4         113.0        95.0  2372.0          15.0   \n15   22.0          6         198.0        95.0  2833.0          15.5   \n16   18.0          6         199.0        97.0  2774.0          15.5   \n17   21.0          6         200.0        85.0  2587.0          16.0   \n18   27.0          4          97.0        88.0  2130.0          14.5   \n19   26.0          4          97.0        46.0  1835.0          20.5   \n20   25.0          4         110.0        87.0  2672.0          17.5   \n21   24.0          4         107.0        90.0  2430.0          14.5   \n22   25.0          4         104.0        95.0  2375.0          17.5   \n23   26.0          4         121.0       113.0  2234.0          12.5   \n24   21.0          6         199.0        90.0  2648.0          15.0   \n25   10.0          8         360.0       215.0  4615.0          14.0   \n26   10.0          8         307.0       200.0  4376.0          15.0   \n27   11.0          8         318.0       210.0  4382.0          13.5   \n28    9.0          8         304.0       193.0  4732.0          18.5   \n29   27.0          4          97.0        88.0  2130.0          14.5   \n..    ...        ...           ...         ...     ...           ...   \n368  27.0          4         112.0        88.0  2640.0          18.6   \n369  34.0          4         112.0        88.0  2395.0          18.0   \n370  31.0          4         112.0        85.0  2575.0          16.2   \n371  29.0          4         135.0        84.0  2525.0          16.0   \n372  27.0          4         151.0        90.0  2735.0          18.0   \n373  24.0          4         140.0        92.0  2865.0          16.4   \n374  23.0          4         151.0         NaN  3035.0          20.5   \n375  36.0          4         105.0        74.0  1980.0          15.3   \n376  37.0          4          91.0        68.0  2025.0          18.2   \n377  31.0          4          91.0        68.0  1970.0          17.6   \n378  38.0          4         105.0        63.0  2125.0          14.7   \n379  36.0          4          98.0        70.0  2125.0          17.3   \n380  36.0          4         120.0        88.0  2160.0          14.5   \n381  36.0          4         107.0        75.0  2205.0          14.5   \n382  34.0          4         108.0        70.0  2245.0          16.9   \n383  38.0          4          91.0        67.0  1965.0          15.0   \n384  32.0          4          91.0        67.0  1965.0          15.7   \n385  38.0          4          91.0        67.0  1995.0          16.2   \n386  25.0          6         181.0       110.0  2945.0          16.4   \n387  38.0          6         262.0        85.0  3015.0          17.0   \n388  26.0          4         156.0        92.0  2585.0          14.5   \n389  22.0          6         232.0       112.0  2835.0          14.7   \n390  32.0          4         144.0        96.0  2665.0          13.9   \n391  36.0          4         135.0        84.0  2370.0          13.0   \n392  27.0          4         151.0        90.0  2950.0          17.3   \n393  27.0          4         140.0        86.0  2790.0          15.6   \n394  44.0          4          97.0        52.0  2130.0          24.6   \n395  32.0          4         135.0        84.0  2295.0          11.6   \n396  28.0          4         120.0        79.0  2625.0          18.6   \n397  31.0          4         119.0        82.0  2720.0          19.4   \n\n     model_year  origin                            car_name  \n0            70       1         \"chevrolet chevelle malibu\"  \n1            70       1                 \"buick skylark 320\"  \n2            70       1                \"plymouth satellite\"  \n3            70       1                     \"amc rebel sst\"  \n4            70       1                       \"ford torino\"  \n5            70       1                  \"ford galaxie 500\"  \n6            70       1                  \"chevrolet impala\"  \n7            70       1                 \"plymouth fury iii\"  \n8            70       1                  \"pontiac catalina\"  \n9            70       1                \"amc ambassador dpl\"  \n10           70       1               \"dodge challenger se\"  \n11           70       1                \"plymouth 'cuda 340\"  \n12           70       1             \"chevrolet monte carlo\"  \n13           70       1           \"buick estate wagon (sw)\"  \n14           70       3             \"toyota corona mark ii\"  \n15           70       1                   \"plymouth duster\"  \n16           70       1                        \"amc hornet\"  \n17           70       1                     \"ford maverick\"  \n18           70       3                      \"datsun pl510\"  \n19           70       2      \"volkswagen 1131 deluxe sedan\"  \n20           70       2                       \"peugeot 504\"  \n21           70       2                       \"audi 100 ls\"  \n22           70       2                          \"saab 99e\"  \n23           70       2                          \"bmw 2002\"  \n24           70       1                       \"amc gremlin\"  \n25           70       1                         \"ford f250\"  \n26           70       1                         \"chevy c20\"  \n27           70       1                        \"dodge d200\"  \n28           70       1                          \"hi 1200d\"  \n29           71       3                      \"datsun pl510\"  \n..          ...     ...                                 ...  \n368          82       1          \"chevrolet cavalier wagon\"  \n369          82       1         \"chevrolet cavalier 2-door\"  \n370          82       1        \"pontiac j2000 se hatchback\"  \n371          82       1                    \"dodge aries se\"  \n372          82       1                   \"pontiac phoenix\"  \n373          82       1              \"ford fairmont futura\"  \n374          82       1                    \"amc concord dl\"  \n375          82       2               \"volkswagen rabbit l\"  \n376          82       3                \"mazda glc custom l\"  \n377          82       3                  \"mazda glc custom\"  \n378          82       1            \"plymouth horizon miser\"  \n379          82       1                    \"mercury lynx l\"  \n380          82       3                  \"nissan stanza xe\"  \n381          82       3                      \"honda accord\"  \n382          82       3                    \"toyota corolla\"  \n383          82       3                       \"honda civic\"  \n384          82       3                \"honda civic (auto)\"  \n385          82       3                     \"datsun 310 gx\"  \n386          82       1             \"buick century limited\"  \n387          82       1  \"oldsmobile cutlass ciera (diesel)  \n388          82       1        \"chrysler lebaron medallion\"  \n389          82       1                    \"ford granada l\"  \n390          82       3                  \"toyota celica gt\"  \n391          82       1                 \"dodge charger 2.2\"  \n392          82       1                  \"chevrolet camaro\"  \n393          82       1                   \"ford mustang gl\"  \n394          82       2                         \"vw pickup\"  \n395          82       1                     \"dodge rampage\"  \n396          82       1                       \"ford ranger\"  \n397          82       1                        \"chevy s-10\"  \n\n[398 rows x 9 columns]\n"
     ],
     "output_type": "stream"
    }
   ],
   "source": [
    "mpg_data[\"horsepower\"] = mpg_data[\"horsepower\"].apply(lambda hp: float(\"Nan\") if hp == \"?\" else float(hp))"
   ]
  },
  {
   "cell_type": "code",
   "execution_count": 93,
   "metadata": {
    "deletable": false,
    "editable": false,
    "nbgrader": {
     "checksum": "67c159bf5ec29e072929da20b161b75a",
     "grade": true,
     "grade_id": "convert_to_numeric_tests",
     "locked": true,
     "points": 1,
     "schema_version": 1,
     "solution": false
    },
    "pycharm": {
     "is_executing": false
    }
   },
   "outputs": [],
   "source": [
    "nose.tools.assert_equal(mpg_data.horsepower.dtype, \"float64\")"
   ]
  },
  {
   "cell_type": "markdown",
   "metadata": {},
   "source": [
    "### Problem 4. Missing values: inspection (1 point)\n",
    "We saw that the `horsepower` column contained null values. Display the rows which contain those values. Assign the resulting dataframe to the `unknown_hp` variable."
   ]
  },
  {
   "cell_type": "code",
   "execution_count": 7,
   "metadata": {
    "deletable": false,
    "nbgrader": {
     "checksum": "0753f2d418958209cba57f14e3ca1394",
     "grade": false,
     "grade_id": "unknown_hp",
     "locked": false,
     "schema_version": 1,
     "solution": true
    },
    "pycharm": {
     "is_executing": false
    }
   },
   "outputs": [],
   "source": [
    "def get_unknown_hp(dataframe):\n",
    "    \"\"\"\n",
    "    Returns the rows in the provided dataframe where the \"horsepower\" column is NaN\n",
    "    \"\"\"\n",
    "    unknown_hp = mpg_data[mpg_data.horsepower.isna()]\n",
    "    return unknown_hp"
   ]
  },
  {
   "cell_type": "code",
   "execution_count": 8,
   "metadata": {
    "deletable": false,
    "editable": false,
    "nbgrader": {
     "checksum": "de0f3eb13e9fd31c82611031b77e3993",
     "grade": true,
     "grade_id": "unknown_hp_tests",
     "locked": true,
     "points": 1,
     "schema_version": 1,
     "solution": false
    },
    "pycharm": {
     "is_executing": false
    }
   },
   "outputs": [
    {
     "name": "stdout",
     "text": [
      "      mpg  cylinders  displacement  horsepower  weight  acceleration  \\\n32   25.0          4          98.0         NaN  2046.0          19.0   \n126  21.0          6         200.0         NaN  2875.0          17.0   \n330  40.9          4          85.0         NaN  1835.0          17.3   \n336  23.6          4         140.0         NaN  2905.0          14.3   \n354  34.5          4         100.0         NaN  2320.0          15.8   \n374  23.0          4         151.0         NaN  3035.0          20.5   \n\n     model_year  origin                car_name  \n32           71       1            \"ford pinto\"  \n126          74       1         \"ford maverick\"  \n330          80       2  \"renault lecar deluxe\"  \n336          80       1    \"ford mustang cobra\"  \n354          81       2           \"renault 18i\"  \n374          82       1        \"amc concord dl\"  \n"
     ],
     "output_type": "stream"
    }
   ],
   "source": [
    "cars_with_unknown_hp = get_unknown_hp(mpg_data)\n",
    "print(cars_with_unknown_hp)"
   ]
  },
  {
   "cell_type": "markdown",
   "metadata": {},
   "source": [
    "### Problem 5. Missing data: correction (1 point)\n",
    "It seems like the `NaN` values are a small fraction of all values. We can try one of several things:\n",
    "* Remove them\n",
    "* Replace them (e.g. with the mean power of all cars)\n",
    "* Look up the models on the internet and try our best guess on the power\n",
    "\n",
    "The third one is probably the best but the first one will suffice since these records are too few. Remove those values. Save the dataset in the same `mpg_data` variable. Ensure there are no more `NaN`s."
   ]
  },
  {
   "cell_type": "code",
   "execution_count": 9,
   "metadata": {
    "deletable": false,
    "nbgrader": {
     "checksum": "e6c2d5f7577105ee6e010482c29c6f94",
     "grade": false,
     "grade_id": "remove_nulls",
     "locked": false,
     "schema_version": 1,
     "solution": true
    },
    "pycharm": {
     "is_executing": false
    }
   },
   "outputs": [
    {
     "name": "stdout",
     "text": [
      "      mpg  cylinders  displacement  horsepower  weight  acceleration  \\\n0    18.0          8         307.0       130.0  3504.0          12.0   \n1    15.0          8         350.0       165.0  3693.0          11.5   \n2    18.0          8         318.0       150.0  3436.0          11.0   \n3    16.0          8         304.0       150.0  3433.0          12.0   \n4    17.0          8         302.0       140.0  3449.0          10.5   \n5    15.0          8         429.0       198.0  4341.0          10.0   \n6    14.0          8         454.0       220.0  4354.0           9.0   \n7    14.0          8         440.0       215.0  4312.0           8.5   \n8    14.0          8         455.0       225.0  4425.0          10.0   \n9    15.0          8         390.0       190.0  3850.0           8.5   \n10   15.0          8         383.0       170.0  3563.0          10.0   \n11   14.0          8         340.0       160.0  3609.0           8.0   \n12   15.0          8         400.0       150.0  3761.0           9.5   \n13   14.0          8         455.0       225.0  3086.0          10.0   \n14   24.0          4         113.0        95.0  2372.0          15.0   \n15   22.0          6         198.0        95.0  2833.0          15.5   \n16   18.0          6         199.0        97.0  2774.0          15.5   \n17   21.0          6         200.0        85.0  2587.0          16.0   \n18   27.0          4          97.0        88.0  2130.0          14.5   \n19   26.0          4          97.0        46.0  1835.0          20.5   \n20   25.0          4         110.0        87.0  2672.0          17.5   \n21   24.0          4         107.0        90.0  2430.0          14.5   \n22   25.0          4         104.0        95.0  2375.0          17.5   \n23   26.0          4         121.0       113.0  2234.0          12.5   \n24   21.0          6         199.0        90.0  2648.0          15.0   \n25   10.0          8         360.0       215.0  4615.0          14.0   \n26   10.0          8         307.0       200.0  4376.0          15.0   \n27   11.0          8         318.0       210.0  4382.0          13.5   \n28    9.0          8         304.0       193.0  4732.0          18.5   \n29   27.0          4          97.0        88.0  2130.0          14.5   \n..    ...        ...           ...         ...     ...           ...   \n362  28.0          4         112.0        88.0  2605.0          19.6   \n363  27.0          4         112.0        88.0  2640.0          18.6   \n364  34.0          4         112.0        88.0  2395.0          18.0   \n365  31.0          4         112.0        85.0  2575.0          16.2   \n366  29.0          4         135.0        84.0  2525.0          16.0   \n367  27.0          4         151.0        90.0  2735.0          18.0   \n368  24.0          4         140.0        92.0  2865.0          16.4   \n369  36.0          4         105.0        74.0  1980.0          15.3   \n370  37.0          4          91.0        68.0  2025.0          18.2   \n371  31.0          4          91.0        68.0  1970.0          17.6   \n372  38.0          4         105.0        63.0  2125.0          14.7   \n373  36.0          4          98.0        70.0  2125.0          17.3   \n374  36.0          4         120.0        88.0  2160.0          14.5   \n375  36.0          4         107.0        75.0  2205.0          14.5   \n376  34.0          4         108.0        70.0  2245.0          16.9   \n377  38.0          4          91.0        67.0  1965.0          15.0   \n378  32.0          4          91.0        67.0  1965.0          15.7   \n379  38.0          4          91.0        67.0  1995.0          16.2   \n380  25.0          6         181.0       110.0  2945.0          16.4   \n381  38.0          6         262.0        85.0  3015.0          17.0   \n382  26.0          4         156.0        92.0  2585.0          14.5   \n383  22.0          6         232.0       112.0  2835.0          14.7   \n384  32.0          4         144.0        96.0  2665.0          13.9   \n385  36.0          4         135.0        84.0  2370.0          13.0   \n386  27.0          4         151.0        90.0  2950.0          17.3   \n387  27.0          4         140.0        86.0  2790.0          15.6   \n388  44.0          4          97.0        52.0  2130.0          24.6   \n389  32.0          4         135.0        84.0  2295.0          11.6   \n390  28.0          4         120.0        79.0  2625.0          18.6   \n391  31.0          4         119.0        82.0  2720.0          19.4   \n\n     model_year  origin                            car_name  \n0            70       1         \"chevrolet chevelle malibu\"  \n1            70       1                 \"buick skylark 320\"  \n2            70       1                \"plymouth satellite\"  \n3            70       1                     \"amc rebel sst\"  \n4            70       1                       \"ford torino\"  \n5            70       1                  \"ford galaxie 500\"  \n6            70       1                  \"chevrolet impala\"  \n7            70       1                 \"plymouth fury iii\"  \n8            70       1                  \"pontiac catalina\"  \n9            70       1                \"amc ambassador dpl\"  \n10           70       1               \"dodge challenger se\"  \n11           70       1                \"plymouth 'cuda 340\"  \n12           70       1             \"chevrolet monte carlo\"  \n13           70       1           \"buick estate wagon (sw)\"  \n14           70       3             \"toyota corona mark ii\"  \n15           70       1                   \"plymouth duster\"  \n16           70       1                        \"amc hornet\"  \n17           70       1                     \"ford maverick\"  \n18           70       3                      \"datsun pl510\"  \n19           70       2      \"volkswagen 1131 deluxe sedan\"  \n20           70       2                       \"peugeot 504\"  \n21           70       2                       \"audi 100 ls\"  \n22           70       2                          \"saab 99e\"  \n23           70       2                          \"bmw 2002\"  \n24           70       1                       \"amc gremlin\"  \n25           70       1                         \"ford f250\"  \n26           70       1                         \"chevy c20\"  \n27           70       1                        \"dodge d200\"  \n28           70       1                          \"hi 1200d\"  \n29           71       3                      \"datsun pl510\"  \n..          ...     ...                                 ...  \n362          82       1                \"chevrolet cavalier\"  \n363          82       1          \"chevrolet cavalier wagon\"  \n364          82       1         \"chevrolet cavalier 2-door\"  \n365          82       1        \"pontiac j2000 se hatchback\"  \n366          82       1                    \"dodge aries se\"  \n367          82       1                   \"pontiac phoenix\"  \n368          82       1              \"ford fairmont futura\"  \n369          82       2               \"volkswagen rabbit l\"  \n370          82       3                \"mazda glc custom l\"  \n371          82       3                  \"mazda glc custom\"  \n372          82       1            \"plymouth horizon miser\"  \n373          82       1                    \"mercury lynx l\"  \n374          82       3                  \"nissan stanza xe\"  \n375          82       3                      \"honda accord\"  \n376          82       3                    \"toyota corolla\"  \n377          82       3                       \"honda civic\"  \n378          82       3                \"honda civic (auto)\"  \n379          82       3                     \"datsun 310 gx\"  \n380          82       1             \"buick century limited\"  \n381          82       1  \"oldsmobile cutlass ciera (diesel)  \n382          82       1        \"chrysler lebaron medallion\"  \n383          82       1                    \"ford granada l\"  \n384          82       3                  \"toyota celica gt\"  \n385          82       1                 \"dodge charger 2.2\"  \n386          82       1                  \"chevrolet camaro\"  \n387          82       1                   \"ford mustang gl\"  \n388          82       2                         \"vw pickup\"  \n389          82       1                     \"dodge rampage\"  \n390          82       1                       \"ford ranger\"  \n391          82       1                        \"chevy s-10\"  \n\n[392 rows x 9 columns]\n"
     ],
     "output_type": "stream"
    }
   ],
   "source": [
    "mpg_data = mpg_data.dropna().reset_index(drop = True)"
   ]
  },
  {
   "cell_type": "code",
   "execution_count": 10,
   "metadata": {
    "deletable": false,
    "editable": false,
    "nbgrader": {
     "checksum": "6e7e2f4e6fefe2cc58221893b5d7b3aa",
     "grade": true,
     "grade_id": "remove_nulls_test",
     "locked": true,
     "points": 1,
     "schema_version": 1,
     "solution": false
    },
    "pycharm": {
     "is_executing": false
    }
   },
   "outputs": [],
   "source": [
    "nose.tools.assert_equal(len(get_unknown_hp(mpg_data)), 0)"
   ]
  },
  {
   "cell_type": "markdown",
   "metadata": {},
   "source": [
    "### Problem 6. Years of production (1 + 1 points)\n",
    "Display all unique model years. Assign them to the variable `model_years`."
   ]
  },
  {
   "cell_type": "code",
   "execution_count": 11,
   "metadata": {
    "deletable": false,
    "nbgrader": {
     "checksum": "8ba2235d4a8f83ea9434fc90a1ddc80a",
     "grade": false,
     "grade_id": "model_years",
     "locked": false,
     "schema_version": 1,
     "solution": true
    },
    "pycharm": {
     "is_executing": false
    }
   },
   "outputs": [],
   "source": [
    "def get_unique_model_years(dataframe):\n",
    "    \"\"\"\n",
    "    Returns the unique values of the \"model_year\" column\n",
    "    of the dataframe\n",
    "    \"\"\"\n",
    "    model_years = dataframe[\"model_year\"].unique()\n",
    "    return model_years"
   ]
  },
  {
   "cell_type": "code",
   "execution_count": 12,
   "metadata": {
    "deletable": false,
    "editable": false,
    "nbgrader": {
     "checksum": "4c94cfe872ceb02a22837ccfe4703449",
     "grade": true,
     "grade_id": "model_years_test",
     "locked": true,
     "points": 1,
     "schema_version": 1,
     "solution": false
    },
    "pycharm": {
     "is_executing": false
    }
   },
   "outputs": [
    {
     "name": "stdout",
     "text": [
      "[70 71 72 73 74 75 76 77 78 79 80 81 82]\n"
     ],
     "output_type": "stream"
    }
   ],
   "source": [
    "model_years = get_unique_model_years(mpg_data)\n",
    "print(model_years)"
   ]
  },
  {
   "cell_type": "markdown",
   "metadata": {},
   "source": [
    "These don't look so good. Convert them to real years, like `70 -> 1970, 71 -> 1971`. Replace the column values in the dataframe."
   ]
  },
  {
   "cell_type": "code",
   "execution_count": 13,
   "metadata": {
    "deletable": false,
    "nbgrader": {
     "checksum": "f147ac3f6d2a1eb4de54e68b6e9f4ad4",
     "grade": false,
     "grade_id": "model_year",
     "locked": false,
     "schema_version": 1,
     "solution": true
    },
    "pycharm": {
     "is_executing": false
    }
   },
   "outputs": [],
   "source": [
    "mpg_data[\"model_year\"] = mpg_data[\"model_year\"].apply(lambda year: 1900 + year)"
   ]
  },
  {
   "cell_type": "code",
   "execution_count": 14,
   "metadata": {
    "deletable": false,
    "editable": false,
    "nbgrader": {
     "checksum": "aa8901ac15f7ada7c47953896674e4ce",
     "grade": true,
     "grade_id": "model_year_test",
     "locked": true,
     "points": 1,
     "schema_version": 1,
     "solution": false
    },
    "pycharm": {
     "is_executing": false
    }
   },
   "outputs": [
    {
     "name": "stdout",
     "text": [
      "[1970 1971 1972 1973 1974 1975 1976 1977 1978 1979 1980 1981 1982]\n"
     ],
     "output_type": "stream"
    }
   ],
   "source": [
    "model_years = get_unique_model_years(mpg_data)\n",
    "print(model_years)"
   ]
  },
  {
   "cell_type": "markdown",
   "metadata": {},
   "source": [
    "### Problem 7. Exploration: low-power cars (1 point)\n",
    "The data looks quite good now. Let's try some exploration.\n",
    "\n",
    "Write a function to find the cars which have the smallest number of cylinders and print their model names. Return a list of car names."
   ]
  },
  {
   "cell_type": "code",
   "execution_count": 17,
   "metadata": {
    "deletable": false,
    "nbgrader": {
     "checksum": "49553dd5a9ef2cea7c1501bff02f8827",
     "grade": false,
     "grade_id": "car_names",
     "locked": false,
     "schema_version": 1,
     "solution": true
    },
    "pycharm": {
     "is_executing": false
    }
   },
   "outputs": [],
   "source": [
    "def get_model_names_smallest_cylinders(dataframe):\n",
    "    \"\"\"\n",
    "    Returns the names of the cars with the smallest number of cylinders\n",
    "    \"\"\"\n",
    "    smallest_cylinder_count = dataframe[\"cylinders\"].unique().min()\n",
    "    car_names = dataframe[dataframe[\"cylinders\"] == 3][\"car_name\"]\n",
    "    return car_names"
   ]
  },
  {
   "cell_type": "code",
   "execution_count": 20,
   "metadata": {
    "deletable": false,
    "editable": false,
    "nbgrader": {
     "checksum": "5bb4f01801d149605589d8e5bdec056f",
     "grade": true,
     "grade_id": "car_names_test",
     "locked": true,
     "points": 1,
     "schema_version": 1,
     "solution": false
    },
    "pycharm": {
     "is_executing": false
    }
   },
   "outputs": [
    {
     "name": "stdout",
     "text": [
      "70     \"mazda rx2 coupe\"\n110          \"maxda rx3\"\n241         \"mazda rx-4\"\n331      \"mazda rx-7 gs\"\nName: car_name, dtype: object\n"
     ],
     "output_type": "stream"
    }
   ],
   "source": [
    "car_names = get_model_names_smallest_cylinders(mpg_data)\n",
    "print(car_names)\n",
    "nose.tools.assert_true(car_names.shape == (4,) or car_names.shape == (4, 1))"
   ]
  },
  {
   "cell_type": "markdown",
   "metadata": {},
   "source": [
    "### Problem 8. Exploration: correlations (1 point)\n",
    "Finally, let's see some connections between variables. These are also called **correlations**.\n",
    "\n",
    "Find how to calculate correlations between different columns using `pandas`.\n",
    "\n",
    "**Hint:** The correlation function in `pandas` returns a `DataFrame` by default. You need only one value from it.\n",
    "\n",
    "Create a function which accepts a dataframe and two columns and prints the correlation coefficient between those two columns."
   ]
  },
  {
   "cell_type": "code",
   "execution_count": 21,
   "metadata": {
    "deletable": false,
    "nbgrader": {
     "checksum": "83c635c1652bb22eae247fe4db073fd8",
     "grade": false,
     "grade_id": "correlation",
     "locked": false,
     "schema_version": 1,
     "solution": true
    },
    "pycharm": {
     "is_executing": false
    }
   },
   "outputs": [],
   "source": [
    "def calculate_correlation(dataframe, first_column, second_column):\n",
    "    \"\"\"\n",
    "    Calculates and returns the correlation coefficient between the two columns in the dataframe.\n",
    "    \"\"\"\n",
    "    correlation = dataframe[first_column].corr(dataframe[second_column])\n",
    "    return correlation"
   ]
  },
  {
   "cell_type": "code",
   "execution_count": 22,
   "metadata": {
    "deletable": false,
    "editable": false,
    "nbgrader": {
     "checksum": "95da71238c62b1ceaf48f316ce32d747",
     "grade": true,
     "grade_id": "cell-457c5946f2350991",
     "locked": true,
     "points": 1,
     "schema_version": 1,
     "solution": false
    },
    "pycharm": {
     "is_executing": false
    }
   },
   "outputs": [
    {
     "name": "stdout",
     "text": [
      "Horsepower:Weight correlation coefficient: 0.8645377375741443\n"
     ],
     "output_type": "stream"
    }
   ],
   "source": [
    "hp_weight = calculate_correlation(mpg_data, \"horsepower\", \"weight\")\n",
    "print(\"Horsepower:Weight correlation coefficient:\", hp_weight)\n",
    "nose.tools.assert_almost_equal(hp_weight, 0.864537737574, delta = 0.01)\n"
   ]
  }
 ],
 "metadata": {
  "kernelspec": {
   "display_name": "Python 3",
   "language": "python",
   "name": "python3"
  },
  "language_info": {
   "codemirror_mode": {
    "name": "ipython",
    "version": 3
   },
   "file_extension": ".py",
   "mimetype": "text/x-python",
   "name": "python",
   "nbconvert_exporter": "python",
   "pygments_lexer": "ipython3",
   "version": "3.7.1"
  },
  "pycharm": {
   "stem_cell": {
    "cell_type": "raw",
    "source": [],
    "metadata": {
     "collapsed": false
    }
   }
  }
 },
 "nbformat": 4,
 "nbformat_minor": 2
}