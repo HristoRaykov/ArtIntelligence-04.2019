{
  "cells": [
    {
      "cell_type": "code",
      "execution_count": 3,
      "metadata": {
        "pycharm": {
          "is_executing": false
        }
      },
      "outputs": [],
      "source": [
        "%matplotlib inline"
      ]
    },
    {
      "cell_type": "code",
      "execution_count": 35,
      "metadata": {
        "pycharm": {
          "is_executing": false
        }
      },
      "outputs": [],
      "source": "import numpy as np\nimport matplotlib.pyplot as plt\nfrom matplotlib.transforms import Affine2D\nfrom time import process_time\n# import skimage.io\n# Write your imports here\n"
    },
    {
      "cell_type": "markdown",
      "metadata": {
        "pycharm": {}
      },
      "source": "# Linear Algebra Exercise\n## Vectors, Matrices, Transformations. Applications of Linear Algebra"
    },
    {
      "cell_type": "markdown",
      "metadata": {
        "pycharm": {}
      },
      "source": [
        "### Problem 1. Basis Vectors in 2D Coordinate Space\n",
        "We know that for an n-dimensional vector space, we need **exactly n** vectors to form a basis. Let\u0027s visualize that.\n",
        "\n",
        "The function you wrote last time for visualizing complex numbers can be extended to visualize any set of vectors. If you haven\u0027t already written that, have a look at [this StackOverflow post](https://stackoverflow.com/questions/12265234/how-to-plot-2d-math-vectors-with-matplotlib). You need to use the `quiver()` function which accepts the $x$ and $y$ coordinates of the start and end points.\n",
        "\n",
        "Write a function which accepts an array of vectors in the format `[start_x, start_y, end_x, end_y]` and plots them. Optionally, you can add different colors. When you call `quiver()` pass `color \u003d colors` as the last parameter and it will take care of them.\n",
        "\n",
        "Make sure to leave enough space on the axes. `quiver()` doesn\u0027t resize the plot area automatically to fit everything. You can do this manually. A simple `plt.xlim(-10, 10)` and `plt.ylim(-10, 10)` will do the job but you can do much better if you wish :)."
      ]
    },
    {
      "cell_type": "code",
      "execution_count": 126,
      "metadata": {
        "pycharm": {
          "is_executing": false
        }
      },
      "outputs": [],
      "source": "def plot_vectors(vectors, colors):\n    \"\"\"\n    Plots vectors on the xy-plane. The `vectors` parameter is a Python list.\n    Each vector is specified in the format [start_x, start_y, end_x, end_y]\n    \"\"\"\n    vectors \u003d np.array(vectors)\n    start_x \u003d vectors[:,0]\n    start_y \u003d vectors[:,1]\n    end_x \u003d vectors[:,2]\n    end_y \u003d vectors[:,3]\n    plt.quiver(start_x,start_y,end_x-start_x,end_y-start_y,angles \u003d \"xy\", scale_units \u003d \"xy\", scale \u003d 1,color\u003d colors)\n    ax \u003d plt.gca()\n    ax.set_aspect(\"equal\")\n    ax.spines[\"bottom\"].set_position(\"zero\")\n    ax.spines[\"left\"].set_position(\"zero\")\n    ax.spines[\"top\"].set_visible(False)\n    ax.spines[\"right\"].set_visible(False)\n    x_min_lim \u003d min(np.min(start_x),np.min(end_x))-0.5\n    x_max_lim \u003d max(np.max(start_x),np.max(end_x))+0.5\n    y_min_lim \u003d min(np.min(start_y),np.min(end_y))-0.5\n    y_max_lim \u003d max(np.max(start_y),np.max(end_y))+0.5\n\n    ax.set_xlim(x_min_lim,x_max_lim)\n    ax.set_ylim(y_min_lim,y_max_lim)\n    plt.show()\n    \n    "
    },
    {
      "cell_type": "code",
      "execution_count": 127,
      "metadata": {
        "pycharm": {
          "is_executing": false
        }
      },
      "outputs": [
        {
          "data": {
            "text/plain": "\u003cFigure size 432x288 with 1 Axes\u003e",
            "image/png": "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\u003d\n"
          },
          "metadata": {
            "needs_background": "light"
          },
          "output_type": "display_data"
        },
        {
          "data": {
            "text/plain": "\u003cFigure size 432x288 with 1 Axes\u003e",
            "image/png": "[encoded data removed]"
          },
          "metadata": {
            "needs_background": "light"
          },
          "output_type": "display_data"
        },
        {
          "data": {
            "text/plain": "\u003cFigure size 432x288 with 1 Axes\u003e",
            "image/png": "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\u003d\n"
          },
          "metadata": {
            "needs_background": "light"
          },
          "output_type": "display_data"
        }
      ],
      "source": [
        "plot_vectors([[0, 0, 2, 3]], [\"red\"]) # One vector\n",
        "plot_vectors([[0, 0, 1, 0], [0, 0, 0, 1]], [\"red\", \"blue\"]) # Two orthogonal vectors\n",
        "plot_vectors([[1, 1, -2, 3], [2, 1, -2.5, 1.5], [-3.2, -1.5, 0, 4.3]], [\"red\", \"blue\", \"orange\"]) # Three arbitrary vectors"
      ]
    },
    {
      "cell_type": "markdown",
      "metadata": {
        "pycharm": {}
      },
      "source": [
        "We know that any 2 linearly independent vectors can form a basis in 2D space. This means that every other vector can be represented as their linear combination. It will be easiest to see this in the standard basis of 2D space.\n",
        "\n",
        "We start by defining the two basis vectors: $e_1, e_2$. Then, we choose an arbitrary vector $v$. We know that it can be expressed as a linear combination $$ v \u003d \\lambda_1e_1 + \\lambda_2e_2 $$\n",
        "\n",
        "Finding the unknown coefficients is the same as solving a linear system with as many equations as there are basis vectors (2 in this case). We can do this by using `np.linalg.solve()`.\n",
        "\n",
        "**Note:** If you want to write `lambda` in Python for some reason, use the variable name `lamda` since `lambda` is a reserved keyword."
      ]
    },
    {
      "cell_type": "code",
      "execution_count": 47,
      "metadata": {
        "pycharm": {
          "is_executing": false
        }
      },
      "outputs": [],
      "source": "def find_linear_combination_coefficients(e1, e2, v):\n    \"\"\"\n    Returns the coordinates of the representation of v in the basis {e_1, e_2}.\n    That is, the unknown coefficients in the linear combination v \u003d lambda_1 * e_1 + lambda_2 * e_2\n    \"\"\"\n    a \u003d np.array([e1,e2]).transpose()\n    solution \u003d np.linalg.solve(a,v)\n    return solution"
    },
    {
      "cell_type": "code",
      "execution_count": 128,
      "metadata": {
        "pycharm": {
          "is_executing": false
        }
      },
      "outputs": [
        {
          "name": "stdout",
          "text": [
            "Coefficients:  [3.5 8.6]\n"
          ],
          "output_type": "stream"
        },
        {
          "data": {
            "text/plain": "\u003cFigure size 432x288 with 1 Axes\u003e",
            "image/png": "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\u003d\n"
          },
          "metadata": {
            "needs_background": "light"
          },
          "output_type": "display_data"
        }
      ],
      "source": "e1, e2 \u003d [[1, 0], [0, 1]]\nv \u003d [3.5, 8.6]\n# Find the unknown coefficients. Extract the logic in a function.\n# It should accept the two basis vectors and the one we need to represent\n# and should return the two coefficients\ncoefficients \u003d find_linear_combination_coefficients(e1, e2, v)\nprint(\"Coefficients: \", str(coefficients))\n# Plot the three vectors\nplot_vectors([[0, 0, i[0], i[1]] for i in [e1, e2, v]], [\"red\", \"blue\", \"green\"])\n"
    },
    {
      "cell_type": "markdown",
      "metadata": {
        "pycharm": {}
      },
      "source": [
        "The coefficents should be the same as the vector\u0027s coordinates. That\u0027s because we were extremely careful in choosing a basis.\n",
        "\n",
        "We know, however, that any pair of linearly independent vectors forms a basis in 2D space. So, let\u0027s try this.\n",
        "\n",
        "Choose two arbitrary vectors (in the code they are `[2, 3]` and `[-5, 1]` but feel free to change them as you wish). Represent $v$ as their linear combination and print the coefficients. After that, plot the resulting vectors to verify visually that the third one is the linear combination of the other two with the coefficients that you saw."
      ]
    },
    {
      "cell_type": "code",
      "execution_count": 129,
      "metadata": {
        "pycharm": {
          "is_executing": false
        }
      },
      "outputs": [
        {
          "name": "stdout",
          "text": [
            "Coefficients:  [2.73529412 0.39411765]\n"
          ],
          "output_type": "stream"
        },
        {
          "data": {
            "text/plain": "\u003cFigure size 432x288 with 1 Axes\u003e",
            "image/png": "[encoded data removed]"
          },
          "metadata": {
            "needs_background": "light"
          },
          "output_type": "display_data"
        }
      ],
      "source": "e1, e2 \u003d [[2, 3], [-5, 1]]\ncoefficients \u003d find_linear_combination_coefficients(e1, e2, v)\nprint(\"Coefficients: \", str(coefficients))\nplot_vectors([[0, 0, i[0], i[1]] for i in [e1, e2, v]], [\"red\", \"blue\", \"green\"])\n"
    },
    {
      "cell_type": "markdown",
      "metadata": {
        "pycharm": {}
      },
      "source": [
        "What we did was **changing the basis**. We represented **the same original vector $v$** in the new coordinates. We didn\u0027t change the geometric object $v$ itself; it still looks the same in the plot. We only changed our viewpoint. This is what change of basis is all about: changing viewpoints.\n",
        "\n",
        "Let\u0027s also see what an \"orthogonal\" basis is: the basis vectors are orthogonal to each other. You can find online how to compute orthogonal vectors but we don\u0027t need that. A definition of orthogonal vectors is: a set of two vectors $a, b$ such that $a.b \u003d 0$. One such set of vectors is `[3, 4], [-4, 3]`.\n",
        "\n",
        "Represent the same vector $v$ in the orthogonal basis."
      ]
    },
    {
      "cell_type": "code",
      "execution_count": 130,
      "metadata": {
        "pycharm": {
          "is_executing": false
        }
      },
      "outputs": [
        {
          "name": "stdout",
          "text": [
            "Coefficients:  [1.796 0.472]\n"
          ],
          "output_type": "stream"
        },
        {
          "data": {
            "text/plain": "\u003cFigure size 432x288 with 1 Axes\u003e",
            "image/png": "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\u003d\n"
          },
          "metadata": {
            "needs_background": "light"
          },
          "output_type": "display_data"
        }
      ],
      "source": "e1, e2 \u003d [[3, 4], [-4, 3]]\ncoefficients \u003d find_linear_combination_coefficients(e1, e2, v)\nprint(\"Coefficients: \", str(coefficients))\nplot_vectors([[0, 0, i[0], i[1]] for i in [e1, e2, v]], [\"red\", \"blue\", \"green\"])"
    },
    {
      "cell_type": "markdown",
      "metadata": {
        "pycharm": {}
      },
      "source": [
        "Let\u0027s choose a more visually pleasing basis: one whose basis vectors are **collinear** (parallel) to the coordinate axes."
      ]
    },
    {
      "cell_type": "code",
      "execution_count": 131,
      "metadata": {
        "pycharm": {
          "is_executing": false
        }
      },
      "outputs": [
        {
          "name": "stdout",
          "text": [
            "Coefficients:  [1.72  0.875]\n"
          ],
          "output_type": "stream"
        },
        {
          "data": {
            "text/plain": "\u003cFigure size 432x288 with 1 Axes\u003e",
            "image/png": "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\u003d\n"
          },
          "metadata": {
            "needs_background": "light"
          },
          "output_type": "display_data"
        }
      ],
      "source": "e1, e2 \u003d [[0, 5], [4, 0]]\ncoefficients \u003d find_linear_combination_coefficients(e1, e2, v)\nprint(\"Coefficients: \", str(coefficients))\nplot_vectors([[0, 0, i[0], i[1]] for i in [e1, e2, v]], [\"red\", \"blue\", \"green\"])"
    },
    {
      "cell_type": "markdown",
      "metadata": {
        "pycharm": {}
      },
      "source": [
        "Now you\u0027ve seen the coordinates of $v$ in different **bases** (plural form of \"basis\"). You can see that algebra doesn\u0027t really care what the basis vectors are. We simply need *some* point of reference.\n",
        "\n",
        "You can also see the transition from an arbitrary basis, to an orthogonal basis, to an orthonormal basis, to the standard basis (which is orthonormal **AND** aligned to the xy axes). You can also see that the standard basis gives us the easiest possible representation of a vector. That\u0027s why it\u0027s so useful."
      ]
    },
    {
      "cell_type": "markdown",
      "metadata": {
        "pycharm": {}
      },
      "source": [
        "### Problem 2. Vectorization in `numpy`\n",
        "As programmers, we\u0027re used to writing for-loops to iterate over collections. This is quite OK but in Python makes the code slow (because it\u0027s an interpreted, dynamically-typed language). For example, a \"standard\" way of summing an array would be\n",
        "```python\n",
        "x \u003d [2, 3, 8, -2.3, 0, 15]\n",
        "sum \u003d 0\n",
        "for i in range(len(x)):\n",
        "    sum +\u003d x[i]\n",
        "print(sum)\n",
        "```\n",
        "\n",
        "However, there are better ways to do this. `numpy` works in C \"behind the scenes\". This means that:\n",
        "1. Operations in C are very, very, VERY fast\n",
        "2. Communication between C and Python is slow\n",
        "\n",
        "This means we should prepare our code to use `numpy` arrays as much as possible. First of all, this gives us a great computational advantage: the code is very fast. Second, it will look simpler and more beautiful. Compare the previous code with this one:\n",
        "```python\n",
        "x \u003d [2, 3, 8, -2.3, 0, 15]\n",
        "sum \u003d np.sum(x)\n",
        "print(sum)\n",
        "```\n",
        "\n",
        "Of course, the for-loop is still done, it\u0027s just hidden.\n",
        "\n",
        "The basic rule is **whenever possible, avoid looping and use vectors and matrices**. Sometimes it\u0027s impossible to avoid loops and that\u0027s OK.\n",
        "\n",
        "Let\u0027s create a performance test. Create a large array of random numbers. You can use `np.random.random()`. Sum the array using `numpy` and using the for-loop. Compare the times. In some cases, the performance difference will be several hundred times (e.g. length \u003d $1.10^7$, difference $\\approx 2000$ times: $\\approx 0.01ms$ for the `sum()` and $\\approx 2s$ for the loop).\n",
        "\n",
        "Don\u0027t forget to see that the sums are equal. A fast but incorrect algorihm is not an option :).\n",
        "\n",
        "Next, call the function for different lengths and create two plots showing the time it takes to multiply different-length arrays. **Idea:** You can plot them on two separate y-axes on the same plot. Look at the `twiny()` function. See how much time it takes to perform both operations.\n",
        "\n",
        "Plot another plot: speedup versus length. Plot the length on the x-axis and the speedup (`np_sum_time / for_loop time`) on the y-axis."
      ]
    },
    {
      "cell_type": "code",
      "execution_count": 24,
      "metadata": {
        "pycharm": {
          "is_executing": false
        }
      },
      "outputs": [
        {
          "data": {
            "text/plain": "\u003cFigure size 432x288 with 2 Axes\u003e",
            "image/png": "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\u003d\u003d\n"
          },
          "metadata": {
            "needs_background": "light"
          },
          "output_type": "display_data"
        },
        {
          "data": {
            "text/plain": "\u003cmatplotlib.collections.PathCollection at 0x7f5b71bfd5f8\u003e"
          },
          "metadata": {},
          "output_type": "execute_result",
          "execution_count": 24
        },
        {
          "data": {
            "text/plain": "\u003cFigure size 432x288 with 1 Axes\u003e",
            "image/png": "[encoded data removed]"
          },
          "metadata": {
            "needs_background": "light"
          },
          "output_type": "display_data"
        }
      ],
      "source": "def sum_numbers(numbers):\n    sum \u003d 0\n    for i in range(len(numbers)):\n        sum+\u003dnumbers[i]\n    return sum\n\ndef get_test_vectors(count):\n    vectors \u003d []\n    for i in range(1,count+1):\n        numbers \u003d np.random.rand(1,100000*i)\n        vectors.append(numbers[0])\n    return vectors\n\ntest_vectors \u003d get_test_vectors(5)\n\ntest_vectors_lengths \u003dnp.array([len(v)/1000 for v in test_vectors])\nnp_sum_times \u003d []\nfor_loop_sum_times \u003d []\n\nfor vector in test_vectors:\n    # start_time \u003d process_time()\n    start_time \u003d process_time()\n    np_sum \u003d np.sum(vector)\n    np_sum_time \u003d process_time() - start_time\n    \n    start_time \u003d process_time()\n    for_loop_sum \u003d sum_numbers(vector)\n    for_loop_sum_time \u003d process_time() - start_time\n    \n    np_sum_times.append(np_sum_time)\n    for_loop_sum_times.append(for_loop_sum_time)\n    \nnp_sum_times \u003d np.array(np_sum_times)*1000\nfor_loop_sum_times \u003d np.array(for_loop_sum_times)*1000\n\nax \u003d plt.gca()\nax.spines[\"bottom\"].set_position(\"zero\")\nax.spines[\"left\"].set_position(\"zero\")\nax.spines[\"left\"].set_color(\"blue\")\n\nax.plot(test_vectors_lengths,np_sum_times,color\u003d\"blue\")\nax.scatter(test_vectors_lengths,np_sum_times)\nax.set_xlabel(\"Numbers Count 1000\")\nax.set_ylabel(\"Numpy Time ms\",color\u003d\"blue\")\nax.tick_params(axis\u003d\"y\",colors\u003d\"blue\")\nax.set_xlim(left\u003d0)\nax.set_ylim(bottom\u003d0)\nax.grid()\n\nax_twiny \u003d ax.twinx()\nax_twiny.spines[\"right\"].set_color(\"red\")\nax_twiny.tick_params(axis\u003d\"y\",colors\u003d\"red\")\nax_twiny.set_ylabel(\"Loop Time ms\",color\u003d\"red\")\nax_twiny.plot(test_vectors_lengths,for_loop_sum_times,color\u003d\"red\")\nax_twiny.scatter(test_vectors_lengths,for_loop_sum_times,color\u003d\"red\")\n\nplt.show()\nspeedup \u003d np_sum_times/for_loop_sum_times\nax \u003d plt.gca()\nax.set_xlabel(\"Numbers Count 1000\")\nax.plot(test_vectors_lengths,speedup)\nax.scatter(test_vectors_lengths,speedup)\n"
    },
    {
      "cell_type": "markdown",
      "metadata": {
        "pycharm": {}
      },
      "source": [
        "There\u0027s one slight warning to using vectors. If we don\u0027t know what we\u0027re doing we might get very hard-to-detect bugs.\n",
        "\n",
        "Let\u0027s look at vector multiplication. In algebra we may write:\n",
        "$$ \\begin{bmatrix}\n",
        "2 \\\\\n",
        "3 \\\\\n",
        "4\n",
        "\\end{bmatrix}.\n",
        " \\begin{bmatrix}\n",
        "5 \\\\\n",
        "-2 \\\\\n",
        "3\n",
        "\\end{bmatrix}\u003d16$$\n",
        "\n",
        "This is the same as\n",
        "$$ \\begin{bmatrix}\n",
        "2 \u0026 3 \u0026 4\n",
        "\\end{bmatrix}.\n",
        " \\begin{bmatrix}\n",
        "5 \u0026 -2 \u0026 3\n",
        "\\end{bmatrix}\u003d16$$\n",
        "\n",
        "In vector multiplication, rows and columns don\u0027t really matter. However, most of the time we want to use **the matrix convention**: \"rows times columns\". This means that both products above are undefined. Also, the inner product is\n",
        "$$ \\begin{bmatrix}\n",
        "2 \u0026 3 \u0026 4\n",
        "\\end{bmatrix}\n",
        ".\n",
        " \\begin{bmatrix}\n",
        "5 \\\\\n",
        "-2 \\\\\n",
        "3\n",
        "\\end{bmatrix}\u003d16$$\n",
        "\n",
        "The inverse operation, following our convention, will return a matrix (this is called **outer product**):\n",
        "\n",
        "$$ \\begin{bmatrix}\n",
        "2 \\\\\n",
        "3 \\\\\n",
        "4\n",
        "\\end{bmatrix}.\n",
        " \\begin{bmatrix}\n",
        "5 \u0026 -2 \u0026 3\n",
        "\\end{bmatrix}\u003d\n",
        "\\begin{bmatrix}\n",
        "10 \u0026 15 \u0026 20 \\\\\n",
        "-4 \u0026 -6 \u0026 -8 \\\\\n",
        "6 \u0026 9 \u0026 12\n",
        "\\end{bmatrix}$$\n",
        "\n",
        "Let\u0027s compare how the default `numpy` behaviour does and how we can impose our convention.\n",
        "\n",
        "First, let\u0027s create the arrays. Next, multiply them. Everything should look fine... until we look at the shapes of `x` and `y` which are `(3,)`. This kind of array is called **rank-1 array**. The matrix convention **DOES NOT** apply to it. One big error is evident when we try to transpose them."
      ]
    },
    {
      "cell_type": "code",
      "execution_count": 25,
      "metadata": {
        "pycharm": {
          "is_executing": false
        }
      },
      "outputs": [
        {
          "name": "stdout",
          "text": [
            "x.y \u003d 16\nx.shape: (3,)\ny.shape: (3,)\nx: [2 3 4]\nx transpose: [2 3 4]\n"
          ],
          "output_type": "stream"
        }
      ],
      "source": [
        "x \u003d np.array([2, 3, 4])\n",
        "y \u003d np.array([5, -2, 3])\n",
        "print(\"x.y \u003d\", str(x.dot(y)))\n",
        "\n",
        "print(\"x.shape:\", x.shape)\n",
        "print(\"y.shape:\", y.shape)\n",
        "print(\"x:\", x)\n",
        "print(\"x transpose:\", x.T)"
      ]
    },
    {
      "cell_type": "markdown",
      "metadata": {
        "pycharm": {}
      },
      "source": [
        "Transposition **DID NOT** turn our row-vector into a column vector! This is correct but **does not follow the matrix convention**.\n",
        "\n",
        "How do we follow the matrix convention then? Simple, just represent the vectors as matrices (2D arrays)."
      ]
    },
    {
      "cell_type": "code",
      "execution_count": 26,
      "metadata": {
        "pycharm": {
          "is_executing": false
        }
      },
      "outputs": [
        {
          "name": "stdout",
          "text": [
            "x.shape: (1, 3)\ny.shape: (3, 1)\nx.y:\n [[16]]\ny.x:\n [[10 15 20]\n [-4 -6 -8]\n [ 6  9 12]]\n"
          ],
          "output_type": "stream"
        }
      ],
      "source": [
        "x \u003d np.array([[2, 3, 4]]) # Row vector\n",
        "y \u003d np.array([[5], [-2], [3]]) # Column vector\n",
        "\n",
        "print(\"x.shape:\", x.shape)\n",
        "print(\"y.shape:\", y.shape)\n",
        "print(\"x.y:\\n\", x.dot(y)) # Dot product -\u003e still looks like a matrix\n",
        "print(\"y.x:\\n\", y.dot(x)) # Outer product -\u003e matrix"
      ]
    },
    {
      "cell_type": "markdown",
      "metadata": {
        "pycharm": {}
      },
      "source": [
        "This simple convention can save us a lot of trouble in the future, especially when dealing with more complicated code."
      ]
    },
    {
      "cell_type": "markdown",
      "metadata": {
        "pycharm": {}
      },
      "source": [
        "### Problem 3. Visualizing Linear Transformations\n",
        "Write a code which visualizes a linear transformation. It should show \"the old space\" and \"the new space\" imposed on it.\n",
        "\n",
        "Actually, if you don\u0027t want to write the code, I\u0027ve already provided something for you. The following cell contains the `visualize_transform.py` code from last time. We\u0027ll examine it and see how we can use it to show our own transformations."
      ]
    },
    {
      "cell_type": "code",
      "execution_count": 28,
      "metadata": {
        "pycharm": {
          "is_executing": false
        }
      },
      "outputs": [],
      "source": [
        "def visualize_transformation(matrix, plot_title):\n",
        "    \"\"\"\n",
        "    Plots the linear transformation given by the specified matrix\n",
        "    \"\"\"\n",
        "    fig \u003d plt.figure()\n",
        "    plt.axis(\"equal\")\n",
        "    ax \u003d fig.add_subplot(111)\n",
        "\n",
        "    # Limits, labels and grid\n",
        "    ax.set_xlim(-5, 5)\n",
        "    ax.set_ylim(-5, 5)\n",
        "    ax.set_xticks(np.arange(ax.get_xlim()[0], ax.get_xlim()[1] + 1))\n",
        "    ax.set_yticks(np.arange(ax.get_ylim()[0], ax.get_ylim()[1] + 1))\n",
        "    ax.set_xticklabels([])\n",
        "    ax.set_yticklabels([])\n",
        "    ax.grid()\n",
        "    ax.set_title(plot_title)\n",
        "\n",
        "    # Unit vectors\n",
        "    ax.quiver([0, 0], [0, 0], [1, 0], [0, 1], color \u003d [\"red\", \"blue\"], alpha \u003d 0.2, units \u003d \"xy\", scale \u003d 1)\n",
        "\n",
        "    # Transformation\n",
        "    t \u003d Affine2D(matrix)\n",
        "\n",
        "    [min_x, max_x, min_y, max_y] \u003d [2 * ax.get_xlim()[0], 2 * ax.get_xlim()[1] + 1, 2 * ax.get_ylim()[0], 2 * ax.get_ylim()[1] + 1]\n",
        "\n",
        "    # New (transformed) grid lines\n",
        "    # Horizontal\n",
        "    for y in np.arange(min_y, max_y):\n",
        "        ax.plot([min_x, max_x], [y] * 2, color \u003d \"red\", linestyle \u003d \"--\", linewidth \u003d 2, transform \u003d t + ax.transData)\n",
        "    # Vertical\n",
        "    for x in np.arange(min_x, max_x):\n",
        "        ax.plot([x] * 2, [min_y, max_y], color \u003d \"blue\", linestyle \u003d \"--\", linewidth \u003d 2, transform \u003d t + ax.transData)\n",
        "\n",
        "    # New (transformed) unit vectors\n",
        "    new_x \u003d t.transform_affine([1, 0])\n",
        "    new_y \u003d t.transform_affine([0, 1])\n",
        "    ax.quiver([0, 0], [0, 0], [new_x[0], new_y[0]], [new_x[1], new_y[1]], color \u003d [\"red\", \"blue\"], units \u003d \"xy\", scale \u003d 1)\n",
        "\n",
        "    plt.show()"
      ]
    },
    {
      "cell_type": "markdown",
      "metadata": {
        "pycharm": {}
      },
      "source": [
        "The code is mostly \"housekeeping\" - making the plot look nicer. It basically consits of several parts:\n",
        "1. Visualize gridlines\n",
        "2. Create the transformation from the matrix: `t \u003d Affine2D(matrix)`\n",
        "3. Visualize transformed gridlines\n",
        "\n",
        "A quirk with `Affine2D()` is that it uses a 3x3 matrix. What\u0027s more, the last row is always `[0, 0, 1]`. This is because the third column corresponds to moving (translation) of the entire coordinate system. As you can imagine, this doesn\u0027t leave the origin fixed, therefore **translation is not a linear transformation**. It\u0027s an affine transformation, which is exactly what the code does. More info [here](https://stackoverflow.com/questions/10698962/why-do-2d-transformations-need-3x3-matrices).\n",
        "For our purposes, we defined the 2D transformation matrix as:\n",
        "$$ T\u003d\\begin{bmatrix}\n",
        "a \u0026 b \\\\\n",
        "c \u0026 d\n",
        "\\end{bmatrix} $$\n",
        "which we\u0027ll pass to the function as\n",
        "$$ T\u003d\\begin{bmatrix}\n",
        "a \u0026 b \u0026 0 \\\\\n",
        "c \u0026 d \u0026 0 \\\\\n",
        "0 \u0026 0 \u0026 1\n",
        "\\end{bmatrix} $$\n",
        "\n",
        "**Note:** If we want to visualize translations, feel free to do so.\n",
        "\n",
        "Let\u0027s see what various transformations look like."
      ]
    },
    {
      "cell_type": "code",
      "execution_count": null,
      "metadata": {
        "pycharm": {}
      },
      "outputs": [],
      "source": [
        "## Identity\n",
        "matrix \u003d [\n",
        "    [1, 0, 0],\n",
        "    [0, 1, 0],\n",
        "    [0, 0, 1]\n",
        "]\n",
        "\n",
        "visualize_transformation(matrix, r\"$\\mathrm{Identity\\ transformation}$\")\n",
        "\n",
        "# Scaling\n",
        "matrix \u003d [\n",
        "    [2, 0, 0],\n",
        "    [0, 1, 0],\n",
        "    [0, 0, 1]\n",
        "]\n",
        "\n",
        "visualize_transformation(matrix, r\"$\\mathrm{Scaling}$\")\n",
        "\n",
        "# Shear\n",
        "matrix \u003d [\n",
        "    [1, 2, 0],\n",
        "    [-1, 1, 0],\n",
        "    [0, 0, 1]\n",
        "]\n",
        "\n",
        "visualize_transformation(matrix, r\"$\\mathrm{Shear}$\")\n",
        "\n",
        "# Rotation\n",
        "matrix \u003d [\n",
        "    [np.cos(np.radians(30)), -np.sin(np.radians(30)), 0],\n",
        "    [np.sin(np.radians(30)), np.cos(np.radians(30)), 0],\n",
        "    [0, 0, 1]\n",
        "]\n",
        "\n",
        "visualize_transformation(matrix, r\"$\\mathrm{30^{\\circ}\\ rotation}$\")\n",
        "\n",
        "# Projection (linearly dependent rows)\n",
        "matrix \u003d [\n",
        "    [1, 2, 0],\n",
        "    [2, 4, 0],\n",
        "    [0, 0, 1],\n",
        "]\n",
        "\n",
        "visualize_transformation(matrix, r\"$\\mathrm{Projection\\ (linearly\\ dependent\\ rows)}$\")"
      ]
    },
    {
      "cell_type": "markdown",
      "metadata": {
        "pycharm": {}
      },
      "source": [
        "Feel free to experiment with other matrices and to see what transformation they will result in. Also feel free to write better visualization code."
      ]
    },
    {
      "cell_type": "code",
      "execution_count": null,
      "metadata": {
        "pycharm": {}
      },
      "outputs": [],
      "source": [
        "# Write your code here"
      ]
    },
    {
      "cell_type": "markdown",
      "metadata": {
        "pycharm": {}
      },
      "source": [
        "### Problem 4. Images as Matrices. Image arithmetic\n",
        "One direct use of matrices and transformations is images. An image is a 2D array (i.e. matrix) of pixels. If it\u0027s grayscale, each pixel will be an integer from 0 to 255:\n",
        "$$ I\u003d\\begin{bmatrix}\n",
        "20 \u0026 45 \u0026 83 \u0026 \\dots \\\\\n",
        "38 \u0026 182 \u0026 200 \u0026 \\dots \\\\\n",
        "\\dots \u0026 \\dots \u0026 \\dots \u0026 \\dots \\\\\n",
        "\\end{bmatrix} $$\n",
        "\n",
        "In an RGB image, each pixel contains three values, corresponding to $R$, $G$ and $B$.\n",
        "\n",
        "A bigger number means more brightness in the corresponding channel, for example `[255, 0, 0]` is a completely red pixel. `[0, 0, 0]` is a black pixel, and `[255, 255, 255]` is a white pixel.\n",
        "\n",
        "Because we treat images as matrices, we can peform arithmetic operations on them.\n",
        "\n",
        "To show an image, you can use `plt.imshow()`.\n",
        "\n",
        "#### Opening an image from the Internet\n",
        "This one proves not to be easy. However, there\u0027s a library for working with images called `scikit-image` which solves most of our problems. Even better, it returns a `numpy` array, which is perfect for us."
      ]
    },
    {
      "cell_type": "code",
      "execution_count": null,
      "metadata": {
        "pycharm": {}
      },
      "outputs": [],
      "source": [
        "def read_image(url):\n",
        "    img \u003d skimage.io.imread(url)\n",
        "    return img"
      ]
    },
    {
      "cell_type": "code",
      "execution_count": null,
      "metadata": {
        "pycharm": {}
      },
      "outputs": [],
      "source": [
        "cat_image_url \u003d \"https://d17fnq9dkz9hgj.cloudfront.net/uploads/2012/11/140272627-grooming-needs-senior-cat-632x475.jpg\"\n",
        "cat_image \u003d read_image(cat_image_url)"
      ]
    },
    {
      "cell_type": "code",
      "execution_count": null,
      "metadata": {
        "pycharm": {}
      },
      "outputs": [],
      "source": [
        "cat_image[0][0] # First pixel"
      ]
    },
    {
      "cell_type": "code",
      "execution_count": null,
      "metadata": {
        "pycharm": {}
      },
      "outputs": [],
      "source": [
        "plt.imshow(cat_image)\n",
        "plt.axis(\"off\")\n",
        "plt.show()"
      ]
    },
    {
      "cell_type": "markdown",
      "metadata": {
        "pycharm": {}
      },
      "source": [
        "In most cases, it\u0027s useful to treat the channels one by one."
      ]
    },
    {
      "cell_type": "code",
      "execution_count": null,
      "metadata": {
        "pycharm": {}
      },
      "outputs": [],
      "source": [
        "cat_image_r, cat_image_g, cat_image_b \u003d [cat_image[:, :, i] for i in range(3)]\n",
        "f, (ax_r, ax_g, ax_b) \u003d plt.subplots(1, 3, figsize \u003d (10, 5))\n",
        "ax_r.imshow(cat_image_r, cmap \u003d \"gray\")\n",
        "ax_r.set_title(\"Red channel\")\n",
        "ax_g.imshow(cat_image_g, cmap \u003d \"gray\")\n",
        "ax_g.set_title(\"Green channel\")\n",
        "ax_b.imshow(cat_image_b, cmap \u003d \"gray\")\n",
        "ax_b.set_title(\"Blue channel\")\n",
        "plt.setp([ax_r, ax_g, ax_b], xticks \u003d [], yticks \u003d []) # Remove axis ticks\n",
        "plt.show()"
      ]
    },
    {
      "cell_type": "markdown",
      "metadata": {
        "pycharm": {}
      },
      "source": [
        "If we simply add the channels together, without making them red, green or blue, we\u0027ll get a grayscale image. Note that this doesn\u0027t appear very pleasing. This is because the human eye perceives different colors differently.\n",
        "\n",
        "Note that we first need to \"normalize\" each channel, that is, divide by 255. This will rescale all values. Instead of $[0; 255]$, they\u0027ll be in the range $[0; 1]$."
      ]
    },
    {
      "cell_type": "code",
      "execution_count": null,
      "metadata": {
        "pycharm": {}
      },
      "outputs": [],
      "source": [
        "cat_image_r_normalized, cat_image_g_normalized, cat_image_b_normalized \u003d [\n",
        "    channel / 255 for channel in [cat_image_r, cat_image_g, cat_image_b]\n",
        "] \n",
        "cat_image_gray \u003d cat_image_r_normalized + cat_image_g_normalized + cat_image_b_normalized  \n",
        "plt.imshow(cat_image_gray, cmap \u003d \"gray\")\n",
        "plt.title(\"Average grayscale image\")\n",
        "plt.show()"
      ]
    },
    {
      "cell_type": "markdown",
      "metadata": {
        "pycharm": {}
      },
      "source": [
        "The eye is more sensitive to greens than reds or blues. There are several ways to apply that correction, but we\u0027ll use [this one](https://stackoverflow.com/questions/14330/rgb-to-monochrome-conversion). This is called **luminance correction** (or **gamma correction**)."
      ]
    },
    {
      "cell_type": "code",
      "execution_count": null,
      "metadata": {
        "pycharm": {}
      },
      "outputs": [],
      "source": [
        "cat_image_gray_corrected \u003d (0.299 * cat_image_r_normalized + \n",
        "                            0.587 * cat_image_g_normalized + \n",
        "                            0.114 * cat_image_b_normalized)\n",
        "plt.gca().imshow(cat_image_gray, cmap \u003d plt.cm.gray)\n",
        "plt.title(\"Gamma-corrected grayscale image\")\n",
        "plt.show()"
      ]
    },
    {
      "cell_type": "markdown",
      "metadata": {
        "pycharm": {}
      },
      "source": [
        "If we want to create an artistic grayscale image, we can always change the coefficients. Feel free to experiment with this.\n",
        "\n",
        "So, there we go. We just performed matrix operations on images. Later, we\u0027ll talk about matrix multiplication and convolution, which is a very cool way of processing images.\n",
        "\n",
        "For the time being, let\u0027s just try one more thing. The **image histogram** will give us information of how bright our image is. On the x-axis, there are pixel values from 0 to 255. On the y-axis, there is the count of all values, for example 10 pixels with value 0, 30 pixels with value 1 and so on."
      ]
    },
    {
      "cell_type": "code",
      "execution_count": null,
      "metadata": {
        "pycharm": {}
      },
      "outputs": [],
      "source": [
        "plt.hist(cat_image_gray.ravel(), bins \u003d 256, color \u003d \"black\")\n",
        "plt.title(\"Uncorrected image histogram\")\n",
        "plt.show()\n",
        "plt.hist(cat_image_gray_corrected.ravel(), bins \u003d 256, color \u003d \"red\")\n",
        "plt.title(\"Corrected image histogram\")\n",
        "plt.show()"
      ]
    },
    {
      "cell_type": "code",
      "execution_count": null,
      "metadata": {
        "pycharm": {}
      },
      "outputs": [],
      "source": [
        "# Represent the image as a single-dimensional vector\n",
        "hist_vector \u003d cat_image_gray.ravel()\n",
        "\n",
        "# Normalize the image to have values in the range [0; 1]\n",
        "hist_vector \u003d hist_vector / (hist_vector.max() - hist_vector.min())\n",
        "\n",
        "plt.hist(hist_vector, bins \u003d 256, color \u003d \"black\", alpha \u003d 0.5, label \u003d \"Uncorrected\")\n",
        "plt.hist(cat_image_gray_corrected.ravel(), bins \u003d 256, color \u003d \"red\", alpha \u003d 0.5, label \u003d \"Corrected\")\n",
        "plt.xlim(0, 1)\n",
        "plt.title(\"Image histograms comparison\")\n",
        "plt.legend()\n",
        "plt.show()"
      ]
    },
    {
      "cell_type": "markdown",
      "metadata": {
        "pycharm": {}
      },
      "source": [
        "**Your turn.** Using the code above, display each image channel (1 row, 3 columns). Below each channel, show the histogram corresponding to that channel. Use the previous code pieces as a reference."
      ]
    },
    {
      "cell_type": "code",
      "execution_count": null,
      "metadata": {
        "pycharm": {}
      },
      "outputs": [],
      "source": [
        "# Write your code here"
      ]
    },
    {
      "cell_type": "markdown",
      "metadata": {
        "pycharm": {}
      },
      "source": [
        "### * Problem 5. Perspective Correction\n",
        "Let\u0027s now look at transformations. A **homography** is a function that maps a pixel from one image onto a pixel from another image.\n",
        "\n",
        "If a camera looks at an image, it can see a tilted, slanted and rotated version of the same image. It\u0027s easier to show than to tell:\n",
        "\n",
        "\u003cimg src\u003d\"perspective.gif\" /\u003e\n",
        "\n",
        "The camera sees a **transformed** version of the original image. Note, however, those things:\n",
        "1. There\u0027s no translation (or if there is, it\u0027s irrelevant)\n",
        "2. All lines in the object are lines in the image\n",
        "3. Lines remain parallel and equally spaced\n",
        "\n",
        "This means that the camera sees a **linear transformation** of the original object.\n",
        "\n",
        "This transformation maps 2D space to 2D space which means its determinant is not zero. Which, in turn, means that we can **invert** the transformation matrix and see what the original image looks like.\n",
        "\n",
        "We just transferred a problem in image processing to a problem in linear algebra.\n",
        "\n",
        "This kind of processing has many uses. It allows us to align multiple images, it\u0027s also very useful in OCR (optical character recognition) software... and basically, it\u0027s a way to **standardize different perspectives**.\n",
        "\n",
        "Since we are in 2D space, we need to find 2 basis vectors and then specify how we want to transform them.\n",
        "\n",
        "Follow [this tutorial](http://www.learnopencv.com/homography-examples-using-opencv-python-c/) on OpenCV, a library for computer vision. You\u0027ll need to install it first.\n",
        "\n",
        "**Note:** You can use the `read_image()` function to read the image, and `plt.imshow()` instead of `cv.imshow()`. It\u0027s simpler to use `OpenCV` just for finding the perspective correction matrix.\n",
        "\n",
        "For more information about linear transformations on images in OpenCV, you can have a look at [this tutorial](https://opencv-python-tutroals.readthedocs.io/en/latest/py_tutorials/py_imgproc/py_geometric_transformations/py_geometric_transformations.html#geometric-transformations)."
      ]
    },
    {
      "cell_type": "code",
      "execution_count": null,
      "metadata": {
        "pycharm": {}
      },
      "outputs": [],
      "source": [
        "# Write your code here"
      ]
    },
    {
      "cell_type": "markdown",
      "metadata": {
        "pycharm": {}
      },
      "source": [
        "### * Problem 6. Eigenvalues and Eigenvectors\n",
        "Some transformations are special. Let\u0027s examine this visually.\n",
        "\n",
        "Modify the code in the transformation visualization example. Instead of the two basis vectors, it should now accept **a vector as a parameter** and it should show that vector in the old and new coordinates. This should be simple enough to do :)."
      ]
    },
    {
      "cell_type": "code",
      "execution_count": null,
      "metadata": {
        "pycharm": {}
      },
      "outputs": [],
      "source": [
        "def visualize_transformed_vector(matrix, vec, title):\n",
        "    \"\"\"\n",
        "    Shows the vector (starting at (0; 0)) before and after the transformation\n",
        "    given by the specified matrix\n",
        "    \"\"\"\n",
        "    pass"
      ]
    },
    {
      "cell_type": "markdown",
      "metadata": {
        "pycharm": {}
      },
      "source": [
        "Now have a look at the matrix given below:\n",
        "$$ T \u003d \\begin{bmatrix}\n",
        "2 \u0026 -4 \\\\\n",
        "-1 \u0026 -1\n",
        "\\end{bmatrix} $$\n",
        "\n",
        "See how the transformation acts on a arbitrary vector:"
      ]
    },
    {
      "cell_type": "code",
      "execution_count": null,
      "metadata": {
        "pycharm": {}
      },
      "outputs": [],
      "source": [
        "matrix \u003d np.array([[2, -4, 0], [-1, -1, 0], [0, 0, 1]])\n",
        "visualize_transformed_vector(matrix, [2, 3])"
      ]
    },
    {
      "cell_type": "markdown",
      "metadata": {
        "pycharm": {}
      },
      "source": [
        "Well, it... transforms it somehow. Let\u0027s try another vector:"
      ]
    },
    {
      "cell_type": "code",
      "execution_count": null,
      "metadata": {
        "pycharm": {}
      },
      "outputs": [],
      "source": [
        "visualize_transformed_vector(matrix, [-4, 1])"
      ]
    },
    {
      "cell_type": "markdown",
      "metadata": {
        "pycharm": {}
      },
      "source": [
        "Hm... the vector should be **scaled only**. That is, the entire matrix multiplication acts like a scalar multiplication for this special vector. Because it\u0027s so special, it\u0027s given a name - it\u0027s an **eigenvector** of that matrix. The factor which scales it is called an **eigenvalue** corresponding to that eigenvector.\n",
        "\n",
        "More formally, a vector $v$ is an eigenvector of the matrix $A$, corresponding to the eigenvalue $\\lambda$ if\n",
        "$$ Av \u003d \\lambda v $$\n",
        "\n",
        "You can find more details about the computation [here](https://www.calvin.edu/~scofield/courses/m256/materials/eigenstuff.pdf).\n",
        "\n",
        "Why are these useful? For example, all of quantum physics is based on eigenvalues and eigenvectors. Also, it\u0027s very useful in **dimensionality reduction** problems. If you wish, you can explore that (for example, the principal component analysis algorithm)."
      ]
    },
    {
      "cell_type": "markdown",
      "metadata": {
        "pycharm": {}
      },
      "source": [
        "### ** Problem 7. Principal Component Analysis\n",
        "Sometimes a projection of a higher-dimensional to a lower-dimensional space is useful. It\u0027s extremely useful if we want to get some visual understanding of a, say, 15D space, in 3D or even 2D. One algorithm which allows us to project multidimensional data into fewer dimensions **while keeping the most important shapes and structures** is called **principal component analysis** (PCA). You can explore this using the following checklist:\n",
        "* What are eigenvalues and eigenvectors?\n",
        "* What is the eigenbasis? What is the spectrum of a matrix?\n",
        "* How do we compute the eigenvalues and eigenvectors of a matrix?\n",
        "* What is projection?\n",
        "* How does projection conserve some shapes? Think about an object casting a shadow\n",
        "* How is the projection problem related to eigenvalues and eigenvectors?\n",
        "* What is PCA?\n",
        "* What are principal components? How many components are there (as a function of dimensions of the original space)?\n",
        "* What is variance? What is explained variance?\n",
        "* How do principal components relate to explained variance?\n",
        "* How is PCA implemented? Implement and show\n",
        "* Show some applications of PCA, e.g. reducing a 3D image to its first 2 principal components, plotting the 3D and 2D images\n",
        "* Show a practical use of PCA, for example, trying to see features in a 15D space, projected in 3D."
      ]
    },
    {
      "cell_type": "markdown",
      "metadata": {
        "pycharm": {}
      },
      "source": [
        "### ** Problem 8. Eigenfaces\n",
        "Another great use of eigenvalues and eigenvectors can be **feature detection**. In one algorithm, called **eigenfaces**, if you receive many images of faces, you can see \"what makes a face\". The principal characteristics of a face can be extracted using something similar to PCA.\n",
        "\n",
        "You can see more info about the topic [at Wikipedia](https://en.wikipedia.org/wiki/Eigenface).\n",
        "\n",
        "Use the checklist from above, but add information about the \"eigenfaces\" algorithm.\n",
        "* How are images represented?\n",
        "* How are the images transformed?\n",
        "* What is an eigenface? Why does it look like a typical (albeit blurry) face?\n",
        "* Implement the algorithm\n",
        "* Train the algorithm on some face images\n",
        "* Show what the eigenfaces you got look like\n",
        "* Use the algorithm for face detection **in an unknown image**"
      ]
    },
    {
      "cell_type": "markdown",
      "metadata": {
        "pycharm": {}
      },
      "source": [
        "### ** Problem 9. Clustering Analysis. How Different Metrics Affect Clustering Results\n",
        "One important application of linear algebra is to calculate distances between two points. There are many different ways to calculate a distance. The one which is probably most familiar to you is the **Euclidean distance**. In 2D space, given points $A (x_A; y_A)$ and $B(x_B; y_B)$, the distance is \n",
        "$$ d \u003d \\sqrt{(x_B-x_A)^2 + (y_B-y_A)^2} \u003d \\sqrt{(\\Delta x)^2 + (\\Delta y)^2} $$\n",
        "\n",
        "There are many more definitions of distance (see for example \"taxicab distance\").\n",
        "\n",
        "Many algorithms in data processing and machine learning depend on calculating distances, mainly for calculating errors. A class of algorithms which is based on distances is called **cluster analysis**. Explore what cluster analysis is, and how different distance metrics (e.g. Eucledian and its derivate metrics, taxicab, hexagonal, octagonal, etc.) affect the quality of clustering. Of course, the type of metric you\u0027re going to use depends mostly on the data. Explore different scenarios and see why one is better than the other in a particular case.\n",
        "\n",
        "* What are clusters of points? Why does real-world data tend to clusterize?\n",
        "* What is clustering analysis? (Optional: What is unsupervised learning?)\n",
        "* Provide examples of clustering analysis in 2D\n",
        "* How are clusters defined?\n",
        "* What is k-means clustering? Why does it converge?\n",
        "* How does k-means depend on the initialization?\n",
        "* How can we reduce the dependency on the initialization?\n",
        "* What is agglomerative clustering (also called hierarchical clustering)?\n",
        "* Implement (or use a ready-made implementation) k-means and agglomerative clustering\n",
        "* The algorithms heavily depend on calculating distances between points. Show the results first using the Euclidean metric\n",
        "* Use another metric (or several other metrics). Compare the results\n",
        "* Use a custom metric. For example, this might be a function defined manually\n",
        "* In which cases is a custom metric applicable?\n",
        "* Apply clustering analysis for a real-world scenario. Some applications include social graphs (relations among people) of all sorts, connected crimes and classification.\n",
        "* Use different distance metrics on the same dataset. How does it affect the data in general?"
      ]
    }
  ],
  "metadata": {
    "kernelspec": {
      "display_name": "Python 3",
      "language": "python",
      "name": "python3"
    },
    "language_info": {
      "codemirror_mode": {
        "name": "ipython",
        "version": 3
      },
      "file_extension": ".py",
      "mimetype": "text/x-python",
      "name": "python",
      "nbconvert_exporter": "python",
      "pygments_lexer": "ipython3",
      "version": "3.6.8"
    }
  },
  "nbformat": 4,
  "nbformat_minor": 2
}